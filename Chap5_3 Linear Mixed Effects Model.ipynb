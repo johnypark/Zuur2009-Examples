{
 "cells": [
  {
   "cell_type": "markdown",
   "metadata": {},
   "source": [
    "Chap 5_3\n",
    "$$ \\boldsymbol{R_{i} = X_{i}\\times\\beta+Z_{i}\\times b_{i} +\\varepsilon_{i}  } $$\n",
    "$$ \\boldsymbol {b_{i}} \\sim N(\\mathbf{0,D})  $$\n",
    "$$ \\boldsymbol {\\varepsilon_{i}} \\sim N(\\mathbf{0,\\Sigma_{i}})$$\n"
   ]
  },
  {
   "cell_type": "code",
   "execution_count": null,
   "metadata": {},
   "outputs": [],
   "source": []
  }
 ],
 "metadata": {
  "kernelspec": {
   "display_name": "R",
   "language": "R",
   "name": "ir"
  },
  "language_info": {
   "codemirror_mode": "r",
   "file_extension": ".r",
   "mimetype": "text/x-r-source",
   "name": "R",
   "pygments_lexer": "r",
   "version": "4.0.2"
  }
 },
 "nbformat": 4,
 "nbformat_minor": 4
}
